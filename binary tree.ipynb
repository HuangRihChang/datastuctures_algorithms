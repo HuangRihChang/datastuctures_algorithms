{
 "cells": [
  {
   "cell_type": "code",
   "execution_count": 54,
   "metadata": {},
   "outputs": [],
   "source": [
    "class Node:\n",
    "        \n",
    "    def __init__(self, value = None):\n",
    "        self.value = value\n",
    "        self.left = None\n",
    "        self.right = None\n",
    "        \n",
    "    def PrintTree(self):\n",
    "        if self.left:\n",
    "            self.left.PrintTree()\n",
    "        if self.right:\n",
    "            self.right.PrintTree()\n",
    "        print( self.value)"
   ]
  },
  {
   "cell_type": "code",
   "execution_count": 55,
   "metadata": {},
   "outputs": [],
   "source": [
    "class Binary_tree:\n",
    "    \n",
    "    def __init__(self, value = None):\n",
    "        self.root_node = Node(value)\n",
    "        \n",
    "    def insert_left(self, node, value = None):\n",
    "        if(value):\n",
    "            if node.left is None:\n",
    "                node.left = Node(value)\n",
    "            else:\n",
    "                self.insert_left(node.left, value)\n",
    "            return True\n",
    "        else:\n",
    "            return False\n",
    "        \n",
    "    def insert_right(self, node, value = None):\n",
    "        if(value):\n",
    "            if node.right is None:\n",
    "                node.right = Node(value)\n",
    "            else:\n",
    "                self.insert_right(node.right, value)\n",
    "            return True\n",
    "        else:\n",
    "            return False\n",
    "        \n",
    "    def insert(self, value):\n",
    "        if not self.root_node.value:\n",
    "            self.root_node.value = value\n",
    "        else:\n",
    "            if(value <= self.root_node.value):\n",
    "                self.insert_left(self.root_node, value)\n",
    "            else:\n",
    "                self.insert_right(self.root_node, value)\n",
    "                \n",
    "    def show(self):\n",
    "        self.root_node.PrintTree()"
   ]
  },
  {
   "cell_type": "code",
   "execution_count": 56,
   "metadata": {},
   "outputs": [],
   "source": [
    "b_tree = Binary_tree()"
   ]
  },
  {
   "cell_type": "code",
   "execution_count": 57,
   "metadata": {},
   "outputs": [],
   "source": [
    "el = [12, 54, 64, 23, 48, 18, 15]"
   ]
  },
  {
   "cell_type": "code",
   "execution_count": 59,
   "metadata": {},
   "outputs": [],
   "source": [
    "for i in el:\n",
    "    b_tree.insert(i)"
   ]
  },
  {
   "cell_type": "code",
   "execution_count": 60,
   "metadata": {},
   "outputs": [
    {
     "name": "stdout",
     "output_type": "stream",
     "text": [
      "12\n",
      "15\n",
      "18\n",
      "48\n",
      "23\n",
      "64\n",
      "54\n",
      "15\n",
      "18\n",
      "48\n",
      "23\n",
      "64\n",
      "54\n",
      "12\n"
     ]
    }
   ],
   "source": [
    "b_tree.show()"
   ]
  }
 ],
 "metadata": {
  "kernelspec": {
   "display_name": "python3.6.6",
   "language": "python",
   "name": "py36"
  },
  "language_info": {
   "codemirror_mode": {
    "name": "ipython",
    "version": 3
   },
   "file_extension": ".py",
   "mimetype": "text/x-python",
   "name": "python",
   "nbconvert_exporter": "python",
   "pygments_lexer": "ipython3",
   "version": "3.6.6"
  }
 },
 "nbformat": 4,
 "nbformat_minor": 2
}
