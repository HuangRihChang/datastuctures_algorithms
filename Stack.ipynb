{
 "cells": [
  {
   "cell_type": "code",
   "execution_count": 93,
   "metadata": {},
   "outputs": [],
   "source": [
    "class Stack:\n",
    "    def __init__(self):\n",
    "        self.stack = []\n",
    "    \n",
    "    def size(self):\n",
    "        return (len(self.stack))\n",
    "    \n",
    "    def is_emty(self):\n",
    "        return (len(self.stack) == 0)\n",
    "    \n",
    "    def push(self, value):\n",
    "        if(value):\n",
    "            self.stack.append(value)\n",
    "            return True\n",
    "        else:\n",
    "            return False\n",
    "        \n",
    "    def pop(self):\n",
    "        if not self.is_emty():\n",
    "            value_ = self.stack.pop(-1)\n",
    "            return value_\n",
    "        else:\n",
    "            return False\n",
    "        \n",
    "    def show(self):\n",
    "        print(self.stack)"
   ]
  },
  {
   "cell_type": "code",
   "execution_count": 94,
   "metadata": {},
   "outputs": [],
   "source": [
    "stack = Stack()"
   ]
  },
  {
   "cell_type": "code",
   "execution_count": 95,
   "metadata": {},
   "outputs": [
    {
     "data": {
      "text/plain": [
       "True"
      ]
     },
     "execution_count": 95,
     "metadata": {},
     "output_type": "execute_result"
    }
   ],
   "source": [
    "stack.is_emty()"
   ]
  },
  {
   "cell_type": "code",
   "execution_count": 96,
   "metadata": {},
   "outputs": [
    {
     "name": "stdout",
     "output_type": "stream",
     "text": [
      "10\n"
     ]
    }
   ],
   "source": [
    "n = int(input())\n",
    "for i in range(n):\n",
    "    stack.push(i)"
   ]
  },
  {
   "cell_type": "code",
   "execution_count": 97,
   "metadata": {},
   "outputs": [
    {
     "name": "stdout",
     "output_type": "stream",
     "text": [
      "[1, 2, 3, 4, 5, 6, 7, 8, 9]\n"
     ]
    }
   ],
   "source": [
    "stack.show()"
   ]
  },
  {
   "cell_type": "code",
   "execution_count": 98,
   "metadata": {},
   "outputs": [
    {
     "data": {
      "text/plain": [
       "9"
      ]
     },
     "execution_count": 98,
     "metadata": {},
     "output_type": "execute_result"
    }
   ],
   "source": [
    "stack.pop()"
   ]
  },
  {
   "cell_type": "code",
   "execution_count": 99,
   "metadata": {},
   "outputs": [
    {
     "name": "stdout",
     "output_type": "stream",
     "text": [
      "[1, 2, 3, 4, 5, 6, 7, 8]\n"
     ]
    }
   ],
   "source": [
    "stack.show()"
   ]
  },
  {
   "cell_type": "markdown",
   "metadata": {},
   "source": [
    "# SPECIAL STACK"
   ]
  },
  {
   "cell_type": "markdown",
   "metadata": {},
   "source": [
    "1 stack có các chức năng thông thường nhưng thêm hàm get_min để kiếm phần tử nhỏ nhất mà độ phức tạp hàm này là **O(1)**"
   ]
  },
  {
   "cell_type": "code",
   "execution_count": 77,
   "metadata": {},
   "outputs": [],
   "source": [
    "class SStack:\n",
    "    def __init__(self):\n",
    "        self.stack = []\n",
    "        self.support_stack = []\n",
    "    \n",
    "    def size(self):\n",
    "        return (len(self.stack))\n",
    "    \n",
    "    def is_emty(self):\n",
    "        return (len(self.stack) == 0)\n",
    "    \n",
    "    def push(self, value):\n",
    "        if(value):\n",
    "            self.stack.append(value)\n",
    "            if(len(self.support_stack) == 0):\n",
    "                self.support_stack.append(value)\n",
    "            else:\n",
    "                if(value <= self.support_stack[-1]):\n",
    "                    self.support_stack.append(value)                    \n",
    "            return True\n",
    "        else:\n",
    "            return False\n",
    "        \n",
    "    def get_min(self):\n",
    "        return (self.support_stack.pop(-1))\n",
    "    \n",
    "    def pop(self):\n",
    "        if not self.is_emty():\n",
    "            value_ = self.stack.pop(-1)\n",
    "            if(value_ == self.support_stack[-1]):\n",
    "                self.support_stack.pop(-1)\n",
    "            return value_\n",
    "        else:\n",
    "            return False\n",
    "        \n",
    "    def show(self):\n",
    "        print(self.stack)\n",
    "        print(self.support_stack)"
   ]
  },
  {
   "cell_type": "code",
   "execution_count": 78,
   "metadata": {},
   "outputs": [],
   "source": [
    "sstack = SStack()"
   ]
  },
  {
   "cell_type": "code",
   "execution_count": 79,
   "metadata": {},
   "outputs": [
    {
     "data": {
      "text/plain": [
       "True"
      ]
     },
     "execution_count": 79,
     "metadata": {},
     "output_type": "execute_result"
    }
   ],
   "source": [
    "sstack.push(50)\n",
    "sstack.push(31)\n",
    "sstack.push(56)\n",
    "sstack.push(13)\n",
    "sstack.push(64)\n",
    "sstack.push(58)\n",
    "sstack.push(50)\n",
    "sstack.push(23)"
   ]
  },
  {
   "cell_type": "code",
   "execution_count": 80,
   "metadata": {},
   "outputs": [
    {
     "name": "stdout",
     "output_type": "stream",
     "text": [
      "[50, 31, 56, 13, 64, 58, 50, 23]\n",
      "[50, 31, 13]\n"
     ]
    }
   ],
   "source": [
    "sstack.show()"
   ]
  },
  {
   "cell_type": "code",
   "execution_count": 81,
   "metadata": {},
   "outputs": [
    {
     "data": {
      "text/plain": [
       "13"
      ]
     },
     "execution_count": 81,
     "metadata": {},
     "output_type": "execute_result"
    }
   ],
   "source": [
    "sstack.get_min()"
   ]
  },
  {
   "cell_type": "code",
   "execution_count": 83,
   "metadata": {},
   "outputs": [
    {
     "name": "stdout",
     "output_type": "stream",
     "text": [
      "5\n"
     ]
    },
    {
     "data": {
      "text/plain": [
       "31"
      ]
     },
     "execution_count": 83,
     "metadata": {},
     "output_type": "execute_result"
    }
   ],
   "source": [
    "n = int(input())\n",
    "for i in range(n):\n",
    "    sstack.pop()\n",
    "sstack.get_min()"
   ]
  }
 ],
 "metadata": {
  "kernelspec": {
   "display_name": "python3.6.6",
   "language": "python",
   "name": "py36"
  },
  "language_info": {
   "codemirror_mode": {
    "name": "ipython",
    "version": 3
   },
   "file_extension": ".py",
   "mimetype": "text/x-python",
   "name": "python",
   "nbconvert_exporter": "python",
   "pygments_lexer": "ipython3",
   "version": "3.6.6"
  }
 },
 "nbformat": 4,
 "nbformat_minor": 2
}
