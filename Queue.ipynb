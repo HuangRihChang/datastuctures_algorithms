{
 "cells": [
  {
   "cell_type": "code",
   "execution_count": 5,
   "metadata": {},
   "outputs": [],
   "source": [
    "class Queue:\n",
    "    def __init__(self):\n",
    "        self.queue = []\n",
    "    \n",
    "    def size(self):\n",
    "        return(len(self.queue))\n",
    "    \n",
    "    def is_emty(self):\n",
    "        return (self.size() == 0)\n",
    "    \n",
    "    def push(self, value):\n",
    "        if(value):\n",
    "            self.queue.append(value)\n",
    "            return True\n",
    "        else:\n",
    "            return False\n",
    "        \n",
    "    def pop(self):\n",
    "        if not self.is_emty():\n",
    "            return self.queue.pop(0)\n",
    "        else:\n",
    "            return False\n",
    "        \n",
    "        \n",
    "    def show(self):\n",
    "        print(self.queue)"
   ]
  },
  {
   "cell_type": "code",
   "execution_count": 6,
   "metadata": {},
   "outputs": [],
   "source": [
    "queue = Queue()"
   ]
  },
  {
   "cell_type": "code",
   "execution_count": 7,
   "metadata": {},
   "outputs": [
    {
     "data": {
      "text/plain": [
       "True"
      ]
     },
     "execution_count": 7,
     "metadata": {},
     "output_type": "execute_result"
    }
   ],
   "source": [
    "queue.push(63)\n",
    "queue.push(40)\n",
    "queue.push(52)\n",
    "queue.push(30)\n",
    "queue.push(26)\n",
    "queue.push(55)\n",
    "queue.push(13)\n",
    "queue.push(89)"
   ]
  },
  {
   "cell_type": "code",
   "execution_count": 8,
   "metadata": {},
   "outputs": [
    {
     "name": "stdout",
     "output_type": "stream",
     "text": [
      "[63, 40, 52, 30, 26, 55, 13, 89]\n"
     ]
    }
   ],
   "source": [
    "queue.show()"
   ]
  },
  {
   "cell_type": "code",
   "execution_count": 9,
   "metadata": {},
   "outputs": [
    {
     "data": {
      "text/plain": [
       "63"
      ]
     },
     "execution_count": 9,
     "metadata": {},
     "output_type": "execute_result"
    }
   ],
   "source": [
    "queue.pop()"
   ]
  },
  {
   "cell_type": "code",
   "execution_count": 10,
   "metadata": {},
   "outputs": [
    {
     "name": "stdout",
     "output_type": "stream",
     "text": [
      "[40, 52, 30, 26, 55, 13, 89]\n"
     ]
    }
   ],
   "source": [
    "queue.show()"
   ]
  }
 ],
 "metadata": {
  "kernelspec": {
   "display_name": "python3.6.6",
   "language": "python",
   "name": "py36"
  },
  "language_info": {
   "codemirror_mode": {
    "name": "ipython",
    "version": 3
   },
   "file_extension": ".py",
   "mimetype": "text/x-python",
   "name": "python",
   "nbconvert_exporter": "python",
   "pygments_lexer": "ipython3",
   "version": "3.6.6"
  }
 },
 "nbformat": 4,
 "nbformat_minor": 2
}
